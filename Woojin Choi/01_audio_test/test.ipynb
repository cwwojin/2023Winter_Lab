{
 "cells": [
  {
   "attachments": {},
   "cell_type": "markdown",
   "metadata": {},
   "source": [
    "### testing w/ audio files"
   ]
  },
  {
   "cell_type": "code",
   "execution_count": 4,
   "metadata": {},
   "outputs": [],
   "source": [
    "import os\n",
    "import sys\n",
    "import wave\n",
    "\n",
    "# pcm -> wav\n",
    "\n",
    "for arg in os.listdir(\"./audio/\") :\n",
    "    if arg.endswith(\".pcm\") :\n",
    "        with open(\"./audio/\"+arg, 'rb') as pcmfile:\n",
    "            pcmdata = pcmfile.read()\n",
    "        with wave.open(\"./audio/\"+arg+'.wav', 'wb') as wavfile:\n",
    "            wavfile.setparams((2, 2, 44100, 0, 'NONE', 'NONE'))\n",
    "            wavfile.writeframes(pcmdata)"
   ]
  },
  {
   "cell_type": "code",
   "execution_count": null,
   "metadata": {},
   "outputs": [],
   "source": []
  }
 ],
 "metadata": {
  "kernelspec": {
   "display_name": "cwwojin",
   "language": "python",
   "name": "python3"
  },
  "language_info": {
   "codemirror_mode": {
    "name": "ipython",
    "version": 3
   },
   "file_extension": ".py",
   "mimetype": "text/x-python",
   "name": "python",
   "nbconvert_exporter": "python",
   "pygments_lexer": "ipython3",
   "version": "3.9.13 (main, Oct 13 2022, 21:15:33) \n[GCC 11.2.0]"
  },
  "orig_nbformat": 4,
  "vscode": {
   "interpreter": {
    "hash": "615cfc203720353bcd6e2f1911803ca4dd8f6e517337255d271ba2f978844a03"
   }
  }
 },
 "nbformat": 4,
 "nbformat_minor": 2
}
